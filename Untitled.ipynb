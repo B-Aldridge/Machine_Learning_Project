{
 "cells": [
  {
   "cell_type": "code",
   "execution_count": 1,
   "id": "c07ecc3f-d472-4cee-880e-9a1289bc5a9a",
   "metadata": {},
   "outputs": [],
   "source": [
    "import pandas as pd\n",
    "import numpy as np"
   ]
  },
  {
   "cell_type": "code",
   "execution_count": 4,
   "id": "3fda1128-df5d-49a4-8b5c-6a64ddef3d7d",
   "metadata": {},
   "outputs": [],
   "source": [
    "# Load the first dataset file\n",
    "data_file = 'C:\\\\Users\\\\Blake\\\\Desktop\\\\Machine_Learning_Project\\\\Datasets\\\\dataset.csv'\n",
    "df = pd.read_csv(data_file)\n",
    "\n",
    "# Load the second dataset file\n",
    "severity_file = 'C:\\\\Users\\\\Blake\\\\Desktop\\\\Machine_Learning_Project\\\\Datasets\\\\Symptom-severity.csv'\n",
    "severity_df = pd.read_csv(severity_file)\n"
   ]
  },
  {
   "cell_type": "code",
   "execution_count": 5,
   "id": "5b1b0c73-d817-4aed-a56d-a049a938dad4",
   "metadata": {},
   "outputs": [
    {
     "name": "stdout",
     "output_type": "stream",
     "text": [
      "            Disease   Symptom_1              Symptom_2              Symptom_3  \\\n",
      "0  Fungal infection     itching              skin_rash   nodal_skin_eruptions   \n",
      "1  Fungal infection   skin_rash   nodal_skin_eruptions    dischromic _patches   \n",
      "2  Fungal infection     itching   nodal_skin_eruptions    dischromic _patches   \n",
      "3  Fungal infection     itching              skin_rash    dischromic _patches   \n",
      "4  Fungal infection     itching              skin_rash   nodal_skin_eruptions   \n",
      "\n",
      "              Symptom_4 Symptom_5 Symptom_6 Symptom_7 Symptom_8 Symptom_9  \\\n",
      "0   dischromic _patches       NaN       NaN       NaN       NaN       NaN   \n",
      "1                   NaN       NaN       NaN       NaN       NaN       NaN   \n",
      "2                   NaN       NaN       NaN       NaN       NaN       NaN   \n",
      "3                   NaN       NaN       NaN       NaN       NaN       NaN   \n",
      "4                   NaN       NaN       NaN       NaN       NaN       NaN   \n",
      "\n",
      "  Symptom_10 Symptom_11 Symptom_12 Symptom_13 Symptom_14 Symptom_15  \\\n",
      "0        NaN        NaN        NaN        NaN        NaN        NaN   \n",
      "1        NaN        NaN        NaN        NaN        NaN        NaN   \n",
      "2        NaN        NaN        NaN        NaN        NaN        NaN   \n",
      "3        NaN        NaN        NaN        NaN        NaN        NaN   \n",
      "4        NaN        NaN        NaN        NaN        NaN        NaN   \n",
      "\n",
      "  Symptom_16 Symptom_17  \n",
      "0        NaN        NaN  \n",
      "1        NaN        NaN  \n",
      "2        NaN        NaN  \n",
      "3        NaN        NaN  \n",
      "4        NaN        NaN  \n",
      "                Symptom  weight\n",
      "0               itching       1\n",
      "1             skin_rash       3\n",
      "2  nodal_skin_eruptions       4\n",
      "3   continuous_sneezing       4\n",
      "4             shivering       5\n",
      "                 Disease  Symptom_1  Symptom_2 Symptom_3    Symptom_4  \\\n",
      "count               4920       4920       4920      4920         4572   \n",
      "unique                41         34         48        54           50   \n",
      "top     Fungal infection   vomiting   vomiting   fatigue   high_fever   \n",
      "freq                 120        822        870       726          378   \n",
      "\n",
      "        Symptom_5 Symptom_6        Symptom_7        Symptom_8  \\\n",
      "count        3714      2934             2268             1944   \n",
      "unique         38        32               26               21   \n",
      "top      headache    nausea   abdominal_pain   abdominal_pain   \n",
      "freq          348       390              264              276   \n",
      "\n",
      "                 Symptom_9          Symptom_10     Symptom_11 Symptom_12  \\\n",
      "count                 1692                1512           1194        744   \n",
      "unique                  22                  21             18         11   \n",
      "top      yellowing_of_eyes   yellowing_of_eyes   irritability    malaise   \n",
      "freq                   228                 198            120        126   \n",
      "\n",
      "          Symptom_13   Symptom_14   Symptom_15        Symptom_16    Symptom_17  \n",
      "count            504          306          240               192            72  \n",
      "unique             8            4            3                 3             1  \n",
      "top      muscle_pain   chest_pain   chest_pain   blood_in_sputum   muscle_pain  \n",
      "freq              72           96          144                72            72  \n"
     ]
    }
   ],
   "source": [
    "# Check the first few rows of the 'dataset.csv' DataFrame\n",
    "print(df.head())\n",
    "\n",
    "# Check the first few rows of the 'Symptom-severity.csv' DataFrame\n",
    "print(severity_df.head())\n",
    "\n",
    "# Get statistical summary of the 'dataset.csv' DataFrame\n",
    "print(df.describe())"
   ]
  },
  {
   "cell_type": "code",
   "execution_count": 8,
   "id": "dd9e81af-4559-4e20-8846-d56dd27f4a7e",
   "metadata": {},
   "outputs": [
    {
     "name": "stdout",
     "output_type": "stream",
     "text": [
      "            Disease   Symptom_1              Symptom_2              Symptom_3  \\\n",
      "0  Fungal infection     itching              skin_rash   nodal_skin_eruptions   \n",
      "1  Fungal infection   skin_rash   nodal_skin_eruptions    dischromic _patches   \n",
      "2  Fungal infection     itching   nodal_skin_eruptions    dischromic _patches   \n",
      "3  Fungal infection     itching              skin_rash    dischromic _patches   \n",
      "4  Fungal infection     itching              skin_rash   nodal_skin_eruptions   \n",
      "\n",
      "              Symptom_4 Symptom_5 Symptom_6 Symptom_7 Symptom_8 Symptom_9  \\\n",
      "0   dischromic _patches       NaN       NaN       NaN       NaN       NaN   \n",
      "1                   NaN       NaN       NaN       NaN       NaN       NaN   \n",
      "2                   NaN       NaN       NaN       NaN       NaN       NaN   \n",
      "3                   NaN       NaN       NaN       NaN       NaN       NaN   \n",
      "4                   NaN       NaN       NaN       NaN       NaN       NaN   \n",
      "\n",
      "  Symptom_10 Symptom_11 Symptom_12 Symptom_13 Symptom_14 Symptom_15  \\\n",
      "0        NaN        NaN        NaN        NaN        NaN        NaN   \n",
      "1        NaN        NaN        NaN        NaN        NaN        NaN   \n",
      "2        NaN        NaN        NaN        NaN        NaN        NaN   \n",
      "3        NaN        NaN        NaN        NaN        NaN        NaN   \n",
      "4        NaN        NaN        NaN        NaN        NaN        NaN   \n",
      "\n",
      "  Symptom_16 Symptom_17  \n",
      "0        NaN        NaN  \n",
      "1        NaN        NaN  \n",
      "2        NaN        NaN  \n",
      "3        NaN        NaN  \n",
      "4        NaN        NaN  \n",
      "                Symptom  weight\n",
      "0               itching       1\n",
      "1             skin_rash       3\n",
      "2  nodal_skin_eruptions       4\n",
      "3   continuous_sneezing       4\n",
      "4             shivering       5\n"
     ]
    }
   ],
   "source": [
    "# Check the first few rows of the 'dataset.csv' DataFrame\n",
    "print(df.head())\n",
    "\n",
    "# Check the first few rows of the 'Symptom-severity.csv' DataFrame\n",
    "print(severity_df.head())"
   ]
  },
  {
   "cell_type": "code",
   "execution_count": 9,
   "id": "429af8e2-67b9-4b53-b570-ea47a30be88a",
   "metadata": {},
   "outputs": [
    {
     "name": "stdout",
     "output_type": "stream",
     "text": [
      "            Disease   Symptom_1              Symptom_2              Symptom_3\n",
      "0  Fungal infection     itching              skin_rash   nodal_skin_eruptions\n",
      "1  Fungal infection   skin_rash   nodal_skin_eruptions    dischromic _patches\n",
      "2  Fungal infection     itching   nodal_skin_eruptions    dischromic _patches\n",
      "3  Fungal infection     itching              skin_rash    dischromic _patches\n",
      "4  Fungal infection     itching              skin_rash   nodal_skin_eruptions\n"
     ]
    }
   ],
   "source": [
    "# Drop columns from 'Symptom_4' to 'Symptom_17'\n",
    "symptoms_to_drop = ['Symptom_4', 'Symptom_5', 'Symptom_6', 'Symptom_7', 'Symptom_8', 'Symptom_9',\n",
    "                    'Symptom_10', 'Symptom_11', 'Symptom_12', 'Symptom_13', 'Symptom_14', 'Symptom_15', 'Symptom_16', 'Symptom_17']\n",
    "df = df.drop(symptoms_to_drop, axis=1)\n",
    "\n",
    "# Display the modified DataFrame\n",
    "print(df.head())\n"
   ]
  },
  {
   "cell_type": "code",
   "execution_count": 10,
   "id": "f1962606-2425-4163-bd33-947f3d514fa0",
   "metadata": {},
   "outputs": [
    {
     "name": "stdout",
     "output_type": "stream",
     "text": [
      "            Disease  Symptom_1_ acidity  Symptom_1_ back_pain  \\\n",
      "0  Fungal infection               False                 False   \n",
      "1  Fungal infection               False                 False   \n",
      "2  Fungal infection               False                 False   \n",
      "3  Fungal infection               False                 False   \n",
      "4  Fungal infection               False                 False   \n",
      "\n",
      "   Symptom_1_ bladder_discomfort  Symptom_1_ breathlessness  \\\n",
      "0                          False                      False   \n",
      "1                          False                      False   \n",
      "2                          False                      False   \n",
      "3                          False                      False   \n",
      "4                          False                      False   \n",
      "\n",
      "   Symptom_1_ burning_micturition  Symptom_1_ chest_pain  Symptom_1_ chills  \\\n",
      "0                           False                  False              False   \n",
      "1                           False                  False              False   \n",
      "2                           False                  False              False   \n",
      "3                           False                  False              False   \n",
      "4                           False                  False              False   \n",
      "\n",
      "   Symptom_1_ constipation  Symptom_1_ continuous_sneezing  ...  \\\n",
      "0                    False                           False  ...   \n",
      "1                    False                           False  ...   \n",
      "2                    False                           False  ...   \n",
      "3                    False                           False  ...   \n",
      "4                    False                           False  ...   \n",
      "\n",
      "   Symptom_3_ stomach_pain  Symptom_3_ sweating  Symptom_3_ swelling_joints  \\\n",
      "0                    False                False                       False   \n",
      "1                    False                False                       False   \n",
      "2                    False                False                       False   \n",
      "3                    False                False                       False   \n",
      "4                    False                False                       False   \n",
      "\n",
      "   Symptom_3_ swelling_of_stomach  Symptom_3_ ulcers_on_tongue  \\\n",
      "0                           False                        False   \n",
      "1                           False                        False   \n",
      "2                           False                        False   \n",
      "3                           False                        False   \n",
      "4                           False                        False   \n",
      "\n",
      "   Symptom_3_ vomiting  Symptom_3_ watering_from_eyes  \\\n",
      "0                False                          False   \n",
      "1                False                          False   \n",
      "2                False                          False   \n",
      "3                False                          False   \n",
      "4                False                          False   \n",
      "\n",
      "   Symptom_3_ weakness_of_one_body_side  Symptom_3_ weight_loss  \\\n",
      "0                                 False                   False   \n",
      "1                                 False                   False   \n",
      "2                                 False                   False   \n",
      "3                                 False                   False   \n",
      "4                                 False                   False   \n",
      "\n",
      "   Symptom_3_ yellowish_skin  \n",
      "0                      False  \n",
      "1                      False  \n",
      "2                      False  \n",
      "3                      False  \n",
      "4                      False  \n",
      "\n",
      "[5 rows x 137 columns]\n"
     ]
    }
   ],
   "source": [
    "# Perform one-hot encoding on the remaining categorical symptom columns\n",
    "df_encoded = pd.get_dummies(df, columns=['Symptom_1', 'Symptom_2', 'Symptom_3'], prefix=['Symptom_1', 'Symptom_2', 'Symptom_3'])\n",
    "\n",
    "# Display the encoded DataFrame\n",
    "print(df_encoded.head())\n"
   ]
  },
  {
   "cell_type": "code",
   "execution_count": 11,
   "id": "d8fee0f4-8d7b-4fe2-9a73-62f5255c20d1",
   "metadata": {},
   "outputs": [
    {
     "name": "stdout",
     "output_type": "stream",
     "text": [
      "X_train shape: (3936, 136)\n",
      "X_test shape: (984, 136)\n",
      "y_train shape: (3936,)\n",
      "y_test shape: (984,)\n"
     ]
    }
   ],
   "source": [
    "from sklearn.model_selection import train_test_split\n",
    "\n",
    "# Extract the target variable ('Disease') and feature variables (X)\n",
    "X = df_encoded.drop('Disease', axis=1)\n",
    "y = df_encoded['Disease']\n",
    "\n",
    "# Split the data into training and testing sets\n",
    "X_train, X_test, y_train, y_test = train_test_split(X, y, test_size=0.2, random_state=42)\n",
    "\n",
    "# Display the shape of the training and testing sets\n",
    "print(\"X_train shape:\", X_train.shape)\n",
    "print(\"X_test shape:\", X_test.shape)\n",
    "print(\"y_train shape:\", y_train.shape)\n",
    "print(\"y_test shape:\", y_test.shape)\n"
   ]
  },
  {
   "cell_type": "code",
   "execution_count": 12,
   "id": "fb13e485-d0d1-41b3-8420-a75318bd71f5",
   "metadata": {},
   "outputs": [
    {
     "name": "stdout",
     "output_type": "stream",
     "text": [
      "Accuracy: 0.9491869918699187\n",
      "\n",
      "Classification Report:\n",
      "                                          precision    recall  f1-score   support\n",
      "\n",
      "(vertigo) Paroymsal  Positional Vertigo       1.00      1.00      1.00        18\n",
      "                                   AIDS       1.00      1.00      1.00        30\n",
      "                                   Acne       1.00      1.00      1.00        24\n",
      "                    Alcoholic hepatitis       1.00      1.00      1.00        25\n",
      "                                Allergy       1.00      1.00      1.00        24\n",
      "                              Arthritis       1.00      1.00      1.00        23\n",
      "                       Bronchial Asthma       0.94      1.00      0.97        33\n",
      "                   Cervical spondylosis       1.00      1.00      1.00        23\n",
      "                            Chicken pox       1.00      1.00      1.00        21\n",
      "                    Chronic cholestasis       1.00      1.00      1.00        15\n",
      "                            Common Cold       1.00      0.96      0.98        23\n",
      "                                 Dengue       1.00      1.00      1.00        26\n",
      "                              Diabetes        0.91      1.00      0.95        21\n",
      "           Dimorphic hemmorhoids(piles)       1.00      1.00      1.00        29\n",
      "                          Drug Reaction       1.00      1.00      1.00        24\n",
      "                       Fungal infection       1.00      1.00      1.00        19\n",
      "                                   GERD       1.00      1.00      1.00        28\n",
      "                        Gastroenteritis       1.00      1.00      1.00        25\n",
      "                           Heart attack       1.00      1.00      1.00        23\n",
      "                            Hepatitis B       1.00      1.00      1.00        27\n",
      "                            Hepatitis C       1.00      1.00      1.00        26\n",
      "                            Hepatitis D       0.48      0.96      0.64        23\n",
      "                            Hepatitis E       1.00      0.17      0.29        29\n",
      "                          Hypertension        1.00      1.00      1.00        25\n",
      "                        Hyperthyroidism       1.00      0.92      0.96        24\n",
      "                           Hypoglycemia       1.00      1.00      1.00        26\n",
      "                         Hypothyroidism       1.00      1.00      1.00        21\n",
      "                               Impetigo       1.00      1.00      1.00        24\n",
      "                               Jaundice       0.90      1.00      0.95        19\n",
      "                                Malaria       1.00      1.00      1.00        22\n",
      "                               Migraine       1.00      1.00      1.00        25\n",
      "                        Osteoarthristis       1.00      1.00      1.00        22\n",
      "           Paralysis (brain hemorrhage)       1.00      1.00      1.00        24\n",
      "                    Peptic ulcer diseae       1.00      1.00      1.00        17\n",
      "                              Pneumonia       0.93      0.93      0.93        28\n",
      "                              Psoriasis       1.00      1.00      1.00        22\n",
      "                           Tuberculosis       1.00      0.24      0.39        25\n",
      "                                Typhoid       0.51      0.95      0.67        19\n",
      "                Urinary tract infection       1.00      1.00      1.00        26\n",
      "                         Varicose veins       1.00      1.00      1.00        22\n",
      "                            hepatitis A       0.97      1.00      0.99        34\n",
      "\n",
      "                               accuracy                           0.95       984\n",
      "                              macro avg       0.97      0.95      0.94       984\n",
      "                           weighted avg       0.97      0.95      0.94       984\n",
      "\n"
     ]
    }
   ],
   "source": [
    "from sklearn.tree import DecisionTreeClassifier\n",
    "from sklearn.metrics import classification_report, accuracy_score\n",
    "\n",
    "# Initialize the Decision Tree classifier\n",
    "model = DecisionTreeClassifier(random_state=42)\n",
    "\n",
    "# Train the model using the training data\n",
    "model.fit(X_train, y_train)\n",
    "\n",
    "# Make predictions on the testing data\n",
    "y_pred = model.predict(X_test)\n",
    "\n",
    "# Evaluate the model's performance\n",
    "accuracy = accuracy_score(y_test, y_pred)\n",
    "classification_rep = classification_report(y_test, y_pred)\n",
    "\n",
    "# Display the evaluation results\n",
    "print(\"Accuracy:\", accuracy)\n",
    "print(\"\\nClassification Report:\\n\", classification_rep)\n"
   ]
  },
  {
   "cell_type": "code",
   "execution_count": 13,
   "id": "2c8d462d-82e9-4b71-8bdd-35758f577274",
   "metadata": {},
   "outputs": [
    {
     "data": {
      "text/plain": [
       "['model_filename.pkl']"
      ]
     },
     "execution_count": 13,
     "metadata": {},
     "output_type": "execute_result"
    }
   ],
   "source": [
    "import joblib\n",
    "\n",
    "# Assuming your trained model is named 'model'\n",
    "joblib.dump(model, 'model_filename.pkl')\n"
   ]
  },
  {
   "cell_type": "code",
   "execution_count": null,
   "id": "5bb38ecf-ac06-400e-8767-e1f2a263817d",
   "metadata": {},
   "outputs": [],
   "source": []
  },
  {
   "cell_type": "code",
   "execution_count": null,
   "id": "1d18bd03-9cdf-4e18-8ba8-28128af0602f",
   "metadata": {},
   "outputs": [],
   "source": []
  },
  {
   "cell_type": "code",
   "execution_count": null,
   "id": "bfe5bffc-7a4e-467e-a7b4-0f7f2ab5264a",
   "metadata": {},
   "outputs": [],
   "source": []
  },
  {
   "cell_type": "code",
   "execution_count": null,
   "id": "c4f73663-859d-4d6b-9af2-04dcfc1015ef",
   "metadata": {},
   "outputs": [],
   "source": []
  },
  {
   "cell_type": "code",
   "execution_count": null,
   "id": "bc4d42d5-2d3e-4582-a94b-35d5c918dead",
   "metadata": {},
   "outputs": [],
   "source": []
  },
  {
   "cell_type": "code",
   "execution_count": null,
   "id": "6dd784ab-a785-4c01-97cb-2564a57c1706",
   "metadata": {},
   "outputs": [],
   "source": []
  },
  {
   "cell_type": "code",
   "execution_count": null,
   "id": "9f4f9568-c8b1-4abf-a9aa-01c08d87c032",
   "metadata": {},
   "outputs": [],
   "source": []
  }
 ],
 "metadata": {
  "kernelspec": {
   "display_name": "Python 3 (ipykernel)",
   "language": "python",
   "name": "python3"
  },
  "language_info": {
   "codemirror_mode": {
    "name": "ipython",
    "version": 3
   },
   "file_extension": ".py",
   "mimetype": "text/x-python",
   "name": "python",
   "nbconvert_exporter": "python",
   "pygments_lexer": "ipython3",
   "version": "3.11.4"
  }
 },
 "nbformat": 4,
 "nbformat_minor": 5
}
