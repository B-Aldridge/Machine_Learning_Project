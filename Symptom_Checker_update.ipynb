{
 "cells": [
  {
   "cell_type": "code",
   "execution_count": 1,
   "id": "cb014d61-1778-4d71-b8f0-ee88b342f8dd",
   "metadata": {},
   "outputs": [],
   "source": [
    "import pandas as pd\n",
    "import numpy as np"
   ]
  },
  {
   "cell_type": "code",
   "execution_count": 2,
   "id": "5fe6744e-cc70-41d7-b348-abc902323587",
   "metadata": {},
   "outputs": [],
   "source": [
    "# Load the first dataset file\n",
    "data_file = 'C:\\\\Users\\\\Blake\\\\Desktop\\\\Machine_Learning_Project - Copy\\\\Datasets\\\\dataset.csv'\n",
    "df = pd.read_csv(data_file)\n",
    "\n",
    "# Load the second dataset file\n",
    "severity_file = 'C:\\\\Users\\\\Blake\\\\Desktop\\\\Machine_Learning_Project - Copy\\\\Datasets\\\\Symptom-severity.csv'\n",
    "severity_df = pd.read_csv(severity_file)\n"
   ]
  },
  {
   "cell_type": "code",
   "execution_count": 3,
   "id": "d3405d51-58af-4613-92e1-8f5b421fa269",
   "metadata": {},
   "outputs": [
    {
     "name": "stdout",
     "output_type": "stream",
     "text": [
      "            Disease   Symptom_1              Symptom_2              Symptom_3  \\\n",
      "0  Fungal infection     itching              skin_rash   nodal_skin_eruptions   \n",
      "1  Fungal infection   skin_rash   nodal_skin_eruptions    dischromic _patches   \n",
      "2  Fungal infection     itching   nodal_skin_eruptions    dischromic _patches   \n",
      "3  Fungal infection     itching              skin_rash    dischromic _patches   \n",
      "4  Fungal infection     itching              skin_rash   nodal_skin_eruptions   \n",
      "\n",
      "              Symptom_4 Symptom_5 Symptom_6 Symptom_7 Symptom_8 Symptom_9  \\\n",
      "0   dischromic _patches       NaN       NaN       NaN       NaN       NaN   \n",
      "1                   NaN       NaN       NaN       NaN       NaN       NaN   \n",
      "2                   NaN       NaN       NaN       NaN       NaN       NaN   \n",
      "3                   NaN       NaN       NaN       NaN       NaN       NaN   \n",
      "4                   NaN       NaN       NaN       NaN       NaN       NaN   \n",
      "\n",
      "  Symptom_10 Symptom_11 Symptom_12 Symptom_13 Symptom_14 Symptom_15  \\\n",
      "0        NaN        NaN        NaN        NaN        NaN        NaN   \n",
      "1        NaN        NaN        NaN        NaN        NaN        NaN   \n",
      "2        NaN        NaN        NaN        NaN        NaN        NaN   \n",
      "3        NaN        NaN        NaN        NaN        NaN        NaN   \n",
      "4        NaN        NaN        NaN        NaN        NaN        NaN   \n",
      "\n",
      "  Symptom_16 Symptom_17  \n",
      "0        NaN        NaN  \n",
      "1        NaN        NaN  \n",
      "2        NaN        NaN  \n",
      "3        NaN        NaN  \n",
      "4        NaN        NaN  \n",
      "                Symptom  weight\n",
      "0               itching       1\n",
      "1             skin_rash       3\n",
      "2  nodal_skin_eruptions       4\n",
      "3   continuous_sneezing       4\n",
      "4             shivering       5\n",
      "                 Disease  Symptom_1  Symptom_2 Symptom_3    Symptom_4  \\\n",
      "count               4920       4920       4920      4920         4572   \n",
      "unique                41         34         48        54           50   \n",
      "top     Fungal infection   vomiting   vomiting   fatigue   high_fever   \n",
      "freq                 120        822        870       726          378   \n",
      "\n",
      "        Symptom_5 Symptom_6        Symptom_7        Symptom_8  \\\n",
      "count        3714      2934             2268             1944   \n",
      "unique         38        32               26               21   \n",
      "top      headache    nausea   abdominal_pain   abdominal_pain   \n",
      "freq          348       390              264              276   \n",
      "\n",
      "                 Symptom_9          Symptom_10     Symptom_11 Symptom_12  \\\n",
      "count                 1692                1512           1194        744   \n",
      "unique                  22                  21             18         11   \n",
      "top      yellowing_of_eyes   yellowing_of_eyes   irritability    malaise   \n",
      "freq                   228                 198            120        126   \n",
      "\n",
      "          Symptom_13   Symptom_14   Symptom_15        Symptom_16    Symptom_17  \n",
      "count            504          306          240               192            72  \n",
      "unique             8            4            3                 3             1  \n",
      "top      muscle_pain   chest_pain   chest_pain   blood_in_sputum   muscle_pain  \n",
      "freq              72           96          144                72            72  \n"
     ]
    }
   ],
   "source": [
    "# Check the first few rows of the 'dataset.csv' DataFrame\n",
    "print(df.head())\n",
    "\n",
    "# Check the first few rows of the 'Symptom-severity.csv' DataFrame\n",
    "print(severity_df.head())\n",
    "\n",
    "# Get statistical summary of the 'dataset.csv' DataFrame\n",
    "print(df.describe())\n"
   ]
  },
  {
   "cell_type": "code",
   "execution_count": 4,
   "id": "b3f0769e-f0fc-4076-b189-54057391828a",
   "metadata": {},
   "outputs": [],
   "source": [
    "# Removing leading and trailing whitespace from all columns in the main dataset\n",
    "df = df.apply(lambda x: x.str.strip() if x.dtype == \"object\" else x)\n",
    "\n",
    "# Removing leading and trailing whitespace from symptom names in the symptom severity dataset\n",
    "severity_df['Symptom'] = severity_df['Symptom'].str.strip()\n",
    "\n"
   ]
  },
  {
   "cell_type": "code",
   "execution_count": 5,
   "id": "219d0e91-7c07-4fb0-ba63-763bc0cfd621",
   "metadata": {},
   "outputs": [],
   "source": [
    "# Drop symptom columns 4 to 17\n",
    "columns_to_drop = ['Symptom_4', 'Symptom_5', 'Symptom_6', 'Symptom_7', 'Symptom_8', 'Symptom_9',\n",
    "                   'Symptom_10', 'Symptom_11', 'Symptom_12', 'Symptom_13', 'Symptom_14', 'Symptom_15',\n",
    "                   'Symptom_16', 'Symptom_17']\n",
    "\n",
    "dropped_df = df.drop(columns=columns_to_drop)\n"
   ]
  },
  {
   "cell_type": "code",
   "execution_count": 6,
   "id": "532dab0e-5dab-42c0-a19f-66f836b9d462",
   "metadata": {},
   "outputs": [],
   "source": [
    "# Merge symptom severity information into the main dataset\n",
    "merged_df = dropped_df.merge(severity_df, how='left', left_on='Symptom_1', right_on='Symptom')\n"
   ]
  },
  {
   "cell_type": "code",
   "execution_count": 7,
   "id": "d07f4d6c-f992-4020-ba4c-228a75b99aaa",
   "metadata": {},
   "outputs": [],
   "source": [
    "# Perform one-hot encoding on symptom columns\n",
    "encoded_df = pd.get_dummies(merged_df, columns=['Symptom_1', 'Symptom_2', 'Symptom_3'])"
   ]
  },
  {
   "cell_type": "code",
   "execution_count": 16,
   "id": "7f640afe-6a61-41c4-988a-773601201fa6",
   "metadata": {},
   "outputs": [
    {
     "name": "stdout",
     "output_type": "stream",
     "text": [
      "Index(['Disease', 'Symptom', 'weight', 'Symptom_1_acidity',\n",
      "       'Symptom_1_back_pain', 'Symptom_1_bladder_discomfort',\n",
      "       'Symptom_1_breathlessness', 'Symptom_1_burning_micturition',\n",
      "       'Symptom_1_chest_pain', 'Symptom_1_chills',\n",
      "       ...\n",
      "       'Symptom_3_stomach_pain', 'Symptom_3_sweating',\n",
      "       'Symptom_3_swelling_joints', 'Symptom_3_swelling_of_stomach',\n",
      "       'Symptom_3_ulcers_on_tongue', 'Symptom_3_vomiting',\n",
      "       'Symptom_3_watering_from_eyes', 'Symptom_3_weakness_of_one_body_side',\n",
      "       'Symptom_3_weight_loss', 'Symptom_3_yellowish_skin'],\n",
      "      dtype='object', length=139)\n"
     ]
    }
   ],
   "source": [
    "print(encoded_df.columns)"
   ]
  },
  {
   "cell_type": "code",
   "execution_count": null,
   "id": "1cfe1dcd-3fda-47d8-96d8-c1abecfe597c",
   "metadata": {},
   "outputs": [],
   "source": [
    "Symptom_3_foul_smell_of_urine\n"
   ]
  },
  {
   "cell_type": "code",
   "execution_count": null,
   "id": "5e55bb9e-cf63-4023-aa1b-f3dbe8b724d5",
   "metadata": {},
   "outputs": [],
   "source": [
    "# Checking column names\n",
    "column_names = merged_df.columns\n",
    "print(column_names)"
   ]
  },
  {
   "cell_type": "code",
   "execution_count": null,
   "id": "f8eb20b8-7a4a-46d1-8cb2-c8c0c3f5384d",
   "metadata": {},
   "outputs": [],
   "source": []
  },
  {
   "cell_type": "code",
   "execution_count": 19,
   "id": "264c25de-d1d3-4fea-aaf3-5cbf2db529fc",
   "metadata": {},
   "outputs": [
    {
     "name": "stdout",
     "output_type": "stream",
     "text": [
      "Random Forest Accuracy: 0.9491869918699187\n",
      "Classification Report:\n",
      "                                          precision    recall  f1-score   support\n",
      "\n",
      "                       Fungal infection       1.00      1.00      1.00        18\n",
      "                                Allergy       1.00      1.00      1.00        30\n",
      "                                   GERD       1.00      1.00      1.00        24\n",
      "                    Chronic cholestasis       1.00      1.00      1.00        25\n",
      "                          Drug Reaction       1.00      1.00      1.00        24\n",
      "                    Peptic ulcer diseae       1.00      1.00      1.00        23\n",
      "                                   AIDS       0.94      1.00      0.97        33\n",
      "                               Diabetes       1.00      1.00      1.00        23\n",
      "                        Gastroenteritis       1.00      1.00      1.00        21\n",
      "                       Bronchial Asthma       1.00      1.00      1.00        15\n",
      "                           Hypertension       1.00      0.96      0.98        23\n",
      "                               Migraine       1.00      1.00      1.00        26\n",
      "                   Cervical spondylosis       0.91      1.00      0.95        21\n",
      "           Paralysis (brain hemorrhage)       1.00      1.00      1.00        29\n",
      "                               Jaundice       1.00      1.00      1.00        24\n",
      "                                Malaria       1.00      1.00      1.00        19\n",
      "                            Chicken pox       1.00      1.00      1.00        28\n",
      "                                 Dengue       1.00      1.00      1.00        25\n",
      "                                Typhoid       1.00      1.00      1.00        23\n",
      "                            hepatitis A       1.00      1.00      1.00        27\n",
      "                            Hepatitis B       1.00      1.00      1.00        26\n",
      "                            Hepatitis C       0.48      0.96      0.64        23\n",
      "                            Hepatitis D       1.00      0.17      0.29        29\n",
      "                            Hepatitis E       1.00      1.00      1.00        25\n",
      "                    Alcoholic hepatitis       1.00      0.92      0.96        24\n",
      "                           Tuberculosis       1.00      1.00      1.00        26\n",
      "                            Common Cold       1.00      1.00      1.00        21\n",
      "                              Pneumonia       1.00      1.00      1.00        24\n",
      "           Dimorphic hemmorhoids(piles)       0.90      1.00      0.95        19\n",
      "                           Heart attack       1.00      1.00      1.00        22\n",
      "                         Varicose veins       1.00      1.00      1.00        25\n",
      "                         Hypothyroidism       1.00      1.00      1.00        22\n",
      "                        Hyperthyroidism       1.00      1.00      1.00        24\n",
      "                           Hypoglycemia       1.00      1.00      1.00        17\n",
      "                        Osteoarthristis       0.96      0.89      0.93        28\n",
      "                              Arthritis       1.00      1.00      1.00        22\n",
      "(vertigo) Paroymsal  Positional Vertigo       1.00      0.24      0.39        25\n",
      "                                   Acne       0.51      1.00      0.68        19\n",
      "                Urinary tract infection       1.00      1.00      1.00        26\n",
      "                              Psoriasis       1.00      1.00      1.00        22\n",
      "                               Impetigo       0.97      1.00      0.99        34\n",
      "\n",
      "                               accuracy                           0.95       984\n",
      "                              macro avg       0.97      0.95      0.94       984\n",
      "                           weighted avg       0.97      0.95      0.94       984\n",
      "\n"
     ]
    }
   ],
   "source": [
    "from sklearn.model_selection import train_test_split\n",
    "from sklearn.ensemble import RandomForestClassifier\n",
    "from sklearn.metrics import accuracy_score\n",
    "from sklearn.metrics import classification_report\n",
    "\n",
    "# Splitting into features (X) and target (y)\n",
    "X = encoded_df.drop(['Disease', 'Symptom'], axis=1)\n",
    "y = encoded_df['Disease']\n",
    "\n",
    "# Splitting into training and testing sets\n",
    "X_train, X_test, y_train, y_test = train_test_split(X, y, test_size=0.2, random_state=42)\n",
    "\n",
    "# Instantiate the Random Forest model\n",
    "rf_model = RandomForestClassifier(n_estimators=50, random_state=42)\n",
    "\n",
    "# Train the model on the training data\n",
    "rf_model.fit(X_train, y_train)\n",
    "\n",
    "# Predict the disease labels on the testing data\n",
    "y_pred_rf = rf_model.predict(X_test)\n",
    "\n",
    "# Calculate the accuracy of the model\n",
    "accuracy_rf = accuracy_score(y_test, y_pred_rf)\n",
    "print(\"Random Forest Accuracy:\", accuracy_rf)\n",
    "\n",
    "# Calculate the classification report\n",
    "classification_rep = classification_report(y_test, y_pred_rf, target_names=y.unique())\n",
    "\n",
    "# Print the classification report\n",
    "print(\"Classification Report:\\n\", classification_rep)\n"
   ]
  },
  {
   "cell_type": "code",
   "execution_count": 14,
   "id": "c9da0554-c8c3-409f-8175-afa77dfde58f",
   "metadata": {},
   "outputs": [
    {
     "data": {
      "text/plain": [
       "['random_forest_model.pkl']"
      ]
     },
     "execution_count": 14,
     "metadata": {},
     "output_type": "execute_result"
    }
   ],
   "source": [
    "import joblib\n",
    "\n",
    "# Save the trained model to a file\n",
    "model_filename = 'random_forest_model.pkl'\n",
    "joblib.dump(rf_model, model_filename)\n",
    "\n"
   ]
  },
  {
   "cell_type": "code",
   "execution_count": null,
   "id": "b6d0670e-ab76-4c02-828c-2a7a992fa248",
   "metadata": {},
   "outputs": [],
   "source": [
    "# Save the DataFrame to a CSV\n",
    "merged_df.to_csv('merged_data.csv', index=False)\n"
   ]
  },
  {
   "cell_type": "code",
   "execution_count": null,
   "id": "137399d6-ad2f-43e4-8a46-67312e3951d3",
   "metadata": {},
   "outputs": [],
   "source": []
  },
  {
   "cell_type": "code",
   "execution_count": null,
   "id": "eeab1fca-35fe-4683-9a5c-ccfcb1760232",
   "metadata": {},
   "outputs": [],
   "source": []
  }
 ],
 "metadata": {
  "kernelspec": {
   "display_name": "Python 3 (ipykernel)",
   "language": "python",
   "name": "python3"
  },
  "language_info": {
   "codemirror_mode": {
    "name": "ipython",
    "version": 3
   },
   "file_extension": ".py",
   "mimetype": "text/x-python",
   "name": "python",
   "nbconvert_exporter": "python",
   "pygments_lexer": "ipython3",
   "version": "3.11.4"
  }
 },
 "nbformat": 4,
 "nbformat_minor": 5
}
