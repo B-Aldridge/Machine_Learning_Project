{
 "cells": [
  {
   "cell_type": "code",
   "execution_count": 1,
   "id": "cb014d61-1778-4d71-b8f0-ee88b342f8dd",
   "metadata": {},
   "outputs": [],
   "source": [
    "import pandas as pd\n",
    "import numpy as np"
   ]
  },
  {
   "cell_type": "code",
   "execution_count": 2,
   "id": "5fe6744e-cc70-41d7-b348-abc902323587",
   "metadata": {},
   "outputs": [],
   "source": [
    "# Load the first dataset file\n",
    "data_file = 'symptoms/dataset.csv'\n",
    "df = pd.read_csv(data_file)\n",
    "\n",
    "# Load the second dataset file\n",
    "severity_file = 'symptoms/Symptom-severity.csv'\n",
    "severity_df = pd.read_csv(severity_file)\n"
   ]
  },
  {
   "cell_type": "code",
   "execution_count": 3,
   "id": "d3405d51-58af-4613-92e1-8f5b421fa269",
   "metadata": {},
   "outputs": [
    {
     "name": "stdout",
     "output_type": "stream",
     "text": [
      "            Disease   Symptom_1              Symptom_2              Symptom_3  \\\n",
      "0  Fungal infection     itching              skin_rash   nodal_skin_eruptions   \n",
      "1  Fungal infection   skin_rash   nodal_skin_eruptions    dischromic _patches   \n",
      "2  Fungal infection     itching   nodal_skin_eruptions    dischromic _patches   \n",
      "3  Fungal infection     itching              skin_rash    dischromic _patches   \n",
      "4  Fungal infection     itching              skin_rash   nodal_skin_eruptions   \n",
      "\n",
      "              Symptom_4 Symptom_5 Symptom_6 Symptom_7 Symptom_8 Symptom_9  \\\n",
      "0   dischromic _patches       NaN       NaN       NaN       NaN       NaN   \n",
      "1                   NaN       NaN       NaN       NaN       NaN       NaN   \n",
      "2                   NaN       NaN       NaN       NaN       NaN       NaN   \n",
      "3                   NaN       NaN       NaN       NaN       NaN       NaN   \n",
      "4                   NaN       NaN       NaN       NaN       NaN       NaN   \n",
      "\n",
      "  Symptom_10 Symptom_11 Symptom_12 Symptom_13 Symptom_14 Symptom_15  \\\n",
      "0        NaN        NaN        NaN        NaN        NaN        NaN   \n",
      "1        NaN        NaN        NaN        NaN        NaN        NaN   \n",
      "2        NaN        NaN        NaN        NaN        NaN        NaN   \n",
      "3        NaN        NaN        NaN        NaN        NaN        NaN   \n",
      "4        NaN        NaN        NaN        NaN        NaN        NaN   \n",
      "\n",
      "  Symptom_16 Symptom_17  \n",
      "0        NaN        NaN  \n",
      "1        NaN        NaN  \n",
      "2        NaN        NaN  \n",
      "3        NaN        NaN  \n",
      "4        NaN        NaN  \n",
      "                Symptom  weight\n",
      "0               itching       1\n",
      "1             skin_rash       3\n",
      "2  nodal_skin_eruptions       4\n",
      "3   continuous_sneezing       4\n",
      "4             shivering       5\n",
      "                 Disease  Symptom_1  Symptom_2 Symptom_3    Symptom_4  \\\n",
      "count               4920       4920       4920      4920         4572   \n",
      "unique                41         34         48        54           50   \n",
      "top     Fungal infection   vomiting   vomiting   fatigue   high_fever   \n",
      "freq                 120        822        870       726          378   \n",
      "\n",
      "        Symptom_5 Symptom_6        Symptom_7        Symptom_8  \\\n",
      "count        3714      2934             2268             1944   \n",
      "unique         38        32               26               21   \n",
      "top      headache    nausea   abdominal_pain   abdominal_pain   \n",
      "freq          348       390              264              276   \n",
      "\n",
      "                 Symptom_9          Symptom_10     Symptom_11 Symptom_12  \\\n",
      "count                 1692                1512           1194        744   \n",
      "unique                  22                  21             18         11   \n",
      "top      yellowing_of_eyes   yellowing_of_eyes   irritability    malaise   \n",
      "freq                   228                 198            120        126   \n",
      "\n",
      "          Symptom_13   Symptom_14   Symptom_15        Symptom_16    Symptom_17  \n",
      "count            504          306          240               192            72  \n",
      "unique             8            4            3                 3             1  \n",
      "top      muscle_pain   chest_pain   chest_pain   blood_in_sputum   muscle_pain  \n",
      "freq              72           96          144                72            72  \n"
     ]
    }
   ],
   "source": [
    "# Check the first few rows of the 'dataset.csv' DataFrame\n",
    "print(df.head())\n",
    "\n",
    "# Check the first few rows of the 'Symptom-severity.csv' DataFrame\n",
    "print(severity_df.head())\n",
    "\n",
    "# Get statistical summary of the 'dataset.csv' DataFrame\n",
    "print(df.describe())\n"
   ]
  },
  {
   "cell_type": "code",
   "execution_count": 4,
   "id": "b3f0769e-f0fc-4076-b189-54057391828a",
   "metadata": {},
   "outputs": [],
   "source": [
    "# Remove any leading and trailing whitespace\n",
    "df['Symptom_1'] = df['Symptom_1'].str.strip()\n"
   ]
  },
  {
   "cell_type": "code",
   "execution_count": 5,
   "id": "532dab0e-5dab-42c0-a19f-66f836b9d462",
   "metadata": {},
   "outputs": [],
   "source": [
    "# Merge severity information with the main dataset based on 'Symptom_1'\n",
    "merged_df = df.merge(severity_df, left_on='Symptom_1', right_on='Symptom', how='left').drop(columns='Symptom')"
   ]
  },
  {
   "cell_type": "code",
   "execution_count": 6,
   "id": "219d0e91-7c07-4fb0-ba63-763bc0cfd621",
   "metadata": {},
   "outputs": [],
   "source": [
    "# Dropping columns with lower amounts\n",
    "merged_df = merged_df.drop(columns=['Symptom_4', 'Symptom_5', 'Symptom_6', 'Symptom_7', 'Symptom_8',\n",
    "                                    'Symptom_9', 'Symptom_10', 'Symptom_11', 'Symptom_12',\n",
    "                                    'Symptom_13', 'Symptom_14', 'Symptom_15', 'Symptom_16', 'Symptom_17'])\n"
   ]
  },
  {
   "cell_type": "code",
   "execution_count": 7,
   "id": "1cfe1dcd-3fda-47d8-96d8-c1abecfe597c",
   "metadata": {},
   "outputs": [
    {
     "name": "stdout",
     "output_type": "stream",
     "text": [
      "Disease      0\n",
      "Symptom_1    0\n",
      "Symptom_2    0\n",
      "Symptom_3    0\n",
      "weight       0\n",
      "dtype: int64\n"
     ]
    }
   ],
   "source": [
    "# Check for missing values in the dataset\n",
    "print(merged_df.isnull().sum())\n",
    "\n",
    "# Drop rows with missing values:\n",
    "merged_df = merged_df.dropna()"
   ]
  },
  {
   "cell_type": "code",
   "execution_count": 8,
   "id": "debbd366-7606-4205-90a3-7d08edf4c0d2",
   "metadata": {},
   "outputs": [],
   "source": [
    "# Save the DataFrame to a CSV file named 'merged_data.csv'\n",
    "# merged_df.to_csv('merged_data.csv', index=False)\n",
    "    ## commenting out due to needing csv from after training making this irrelevent"
   ]
  },
  {
   "cell_type": "code",
   "execution_count": 9,
   "id": "5e55bb9e-cf63-4023-aa1b-f3dbe8b724d5",
   "metadata": {},
   "outputs": [
    {
     "name": "stdout",
     "output_type": "stream",
     "text": [
      "Index(['Disease', 'Symptom_1', 'Symptom_2', 'Symptom_3', 'weight'], dtype='object')\n"
     ]
    }
   ],
   "source": [
    "# Checking column names\n",
    "column_names = merged_df.columns\n",
    "print(column_names)"
   ]
  },
  {
   "cell_type": "code",
   "execution_count": 10,
   "id": "f8eb20b8-7a4a-46d1-8cb2-c8c0c3f5384d",
   "metadata": {},
   "outputs": [],
   "source": [
    "# Make Dummies\n",
    "merged_df = pd.get_dummies(merged_df, columns=['Symptom_1', 'Symptom_2', 'Symptom_3'])"
   ]
  },
  {
   "cell_type": "code",
   "execution_count": 11,
   "id": "d0cb1b38-6f86-4678-ba01-71397e6bbda4",
   "metadata": {},
   "outputs": [
    {
     "name": "stdout",
     "output_type": "stream",
     "text": [
      "Index(['Disease', 'weight', 'Symptom_1_acidity', 'Symptom_1_back_pain',\n",
      "       'Symptom_1_bladder_discomfort', 'Symptom_1_breathlessness',\n",
      "       'Symptom_1_burning_micturition', 'Symptom_1_chest_pain',\n",
      "       'Symptom_1_chills', 'Symptom_1_constipation',\n",
      "       ...\n",
      "       'Symptom_3_ stomach_pain', 'Symptom_3_ sweating',\n",
      "       'Symptom_3_ swelling_joints', 'Symptom_3_ swelling_of_stomach',\n",
      "       'Symptom_3_ ulcers_on_tongue', 'Symptom_3_ vomiting',\n",
      "       'Symptom_3_ watering_from_eyes', 'Symptom_3_ weakness_of_one_body_side',\n",
      "       'Symptom_3_ weight_loss', 'Symptom_3_ yellowish_skin'],\n",
      "      dtype='object', length=138)\n"
     ]
    }
   ],
   "source": [
    "# Checking column names\n",
    "column_names = merged_df.columns\n",
    "print(column_names)\n"
   ]
  },
  {
   "cell_type": "code",
   "execution_count": 12,
   "id": "264c25de-d1d3-4fea-aaf3-5cbf2db529fc",
   "metadata": {},
   "outputs": [
    {
     "name": "stdout",
     "output_type": "stream",
     "text": [
      "Accuracy: 0.9522357723577236\n",
      "                                         precision    recall  f1-score   support\n",
      "\n",
      "(vertigo) Paroymsal  Positional Vertigo       1.00      1.00      1.00        18\n",
      "                                   AIDS       1.00      1.00      1.00        30\n",
      "                                   Acne       1.00      1.00      1.00        24\n",
      "                    Alcoholic hepatitis       1.00      1.00      1.00        25\n",
      "                                Allergy       1.00      1.00      1.00        24\n",
      "                              Arthritis       1.00      1.00      1.00        23\n",
      "                       Bronchial Asthma       0.94      1.00      0.97        33\n",
      "                   Cervical spondylosis       1.00      1.00      1.00        23\n",
      "                            Chicken pox       1.00      1.00      1.00        21\n",
      "                    Chronic cholestasis       1.00      1.00      1.00        15\n",
      "                            Common Cold       1.00      0.96      0.98        23\n",
      "                                 Dengue       1.00      1.00      1.00        26\n",
      "                              Diabetes        0.91      1.00      0.95        21\n",
      "           Dimorphic hemmorhoids(piles)       1.00      1.00      1.00        29\n",
      "                          Drug Reaction       1.00      1.00      1.00        24\n",
      "                       Fungal infection       1.00      1.00      1.00        19\n",
      "                                   GERD       1.00      1.00      1.00        28\n",
      "                        Gastroenteritis       1.00      1.00      1.00        25\n",
      "                           Heart attack       1.00      1.00      1.00        23\n",
      "                            Hepatitis B       1.00      1.00      1.00        27\n",
      "                            Hepatitis C       1.00      1.00      1.00        26\n",
      "                            Hepatitis D       1.00      0.04      0.08        23\n",
      "                            Hepatitis E       0.58      1.00      0.73        29\n",
      "                          Hypertension        1.00      1.00      1.00        25\n",
      "                        Hyperthyroidism       1.00      0.92      0.96        24\n",
      "                           Hypoglycemia       1.00      1.00      1.00        26\n",
      "                         Hypothyroidism       1.00      1.00      1.00        21\n",
      "                               Impetigo       1.00      1.00      1.00        24\n",
      "                               Jaundice       0.90      1.00      0.95        19\n",
      "                                Malaria       1.00      1.00      1.00        22\n",
      "                               Migraine       1.00      1.00      1.00        25\n",
      "                        Osteoarthristis       1.00      1.00      1.00        22\n",
      "           Paralysis (brain hemorrhage)       1.00      1.00      1.00        24\n",
      "                    Peptic ulcer diseae       1.00      1.00      1.00        17\n",
      "                              Pneumonia       0.96      0.89      0.93        28\n",
      "                              Psoriasis       1.00      1.00      1.00        22\n",
      "                           Tuberculosis       1.00      0.24      0.39        25\n",
      "                                Typhoid       0.51      1.00      0.68        19\n",
      "                Urinary tract infection       1.00      1.00      1.00        26\n",
      "                         Varicose veins       1.00      1.00      1.00        22\n",
      "                            hepatitis A       0.97      1.00      0.99        34\n",
      "\n",
      "                               accuracy                           0.95       984\n",
      "                              macro avg       0.97      0.95      0.94       984\n",
      "                           weighted avg       0.97      0.95      0.94       984\n",
      "\n",
      "[[18  0  0 ...  0  0  0]\n",
      " [ 0 30  0 ...  0  0  0]\n",
      " [ 0  0 24 ...  0  0  0]\n",
      " ...\n",
      " [ 0  0  0 ... 26  0  0]\n",
      " [ 0  0  0 ...  0 22  0]\n",
      " [ 0  0  0 ...  0  0 34]]\n"
     ]
    }
   ],
   "source": [
    "# Importing for training\n",
    "from sklearn.model_selection import train_test_split\n",
    "from sklearn.ensemble import RandomForestClassifier  \n",
    "from sklearn.metrics import accuracy_score, classification_report, confusion_matrix\n",
    "\n",
    "# Separate the features (X) and target (y)\n",
    "X = merged_df.drop('Disease', axis=1)  \n",
    "y = merged_df['Disease']  \n",
    "\n",
    "# Train-Test Split\n",
    "X_train, X_test, y_train, y_test = train_test_split(X, y, test_size=0.2, random_state=42)\n",
    "\n",
    "# Model Selection and Training\n",
    "rf_classifier = RandomForestClassifier(n_estimators=100, random_state=42)\n",
    "rf_classifier.fit(X_train, y_train)\n",
    "\n",
    "# Model Evaluation\n",
    "y_pred = rf_classifier.predict(X_test)\n",
    "accuracy = accuracy_score(y_test, y_pred)\n",
    "print(\"Accuracy:\", accuracy)\n",
    "print(classification_report(y_test, y_pred))\n",
    "print(confusion_matrix(y_test, y_pred))\n"
   ]
  },
  {
   "cell_type": "code",
   "execution_count": 13,
   "id": "c9da0554-c8c3-409f-8175-afa77dfde58f",
   "metadata": {},
   "outputs": [
    {
     "data": {
      "text/plain": [
       "['rf_model.joblib']"
      ]
     },
     "execution_count": 13,
     "metadata": {},
     "output_type": "execute_result"
    }
   ],
   "source": [
    "# Import joblib to be able to save model\n",
    "import joblib\n",
    "\n",
    "# Save the model to a file\n",
    "model_filename = 'rf_model.joblib'\n",
    "joblib.dump(rf_classifier, model_filename)\n"
   ]
  },
  {
   "cell_type": "code",
   "execution_count": 14,
   "id": "b6d0670e-ab76-4c02-828c-2a7a992fa248",
   "metadata": {},
   "outputs": [],
   "source": [
    "# Save the DataFrame to a CSV\n",
    "merged_df.to_csv('merged_data.csv', index=False)\n"
   ]
  },
  {
   "cell_type": "code",
   "execution_count": null,
   "id": "137399d6-ad2f-43e4-8a46-67312e3951d3",
   "metadata": {},
   "outputs": [],
   "source": []
  },
  {
   "cell_type": "code",
   "execution_count": null,
   "id": "eeab1fca-35fe-4683-9a5c-ccfcb1760232",
   "metadata": {},
   "outputs": [],
   "source": []
  }
 ],
 "metadata": {
  "kernelspec": {
   "display_name": "Python 3 (ipykernel)",
   "language": "python",
   "name": "python3"
  },
  "language_info": {
   "codemirror_mode": {
    "name": "ipython",
    "version": 3
   },
   "file_extension": ".py",
   "mimetype": "text/x-python",
   "name": "python",
   "nbconvert_exporter": "python",
   "pygments_lexer": "ipython3",
   "version": "3.11.4"
  }
 },
 "nbformat": 4,
 "nbformat_minor": 5
}
