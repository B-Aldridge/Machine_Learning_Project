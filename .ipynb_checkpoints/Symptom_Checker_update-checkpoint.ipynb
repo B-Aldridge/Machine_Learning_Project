{
 "cells": [
  {
   "cell_type": "code",
   "execution_count": 1,
   "id": "cb014d61-1778-4d71-b8f0-ee88b342f8dd",
   "metadata": {},
   "outputs": [],
   "source": [
    "import pandas as pd\n",
    "import numpy as np"
   ]
  },
  {
   "cell_type": "code",
   "execution_count": 2,
   "id": "5fe6744e-cc70-41d7-b348-abc902323587",
   "metadata": {},
   "outputs": [],
   "source": [
    "# Load the first dataset file\n",
    "data_file = 'C:\\\\Users\\\\Blake\\\\Desktop\\\\Machine_Learning_Project\\\\Datasets\\\\dataset.csv'\n",
    "df = pd.read_csv(data_file)\n",
    "\n",
    "# Load the second dataset file\n",
    "severity_file = 'C:\\\\Users\\\\Blake\\\\Desktop\\\\Machine_Learning_Project\\\\Datasets\\\\Symptom-severity.csv'\n",
    "severity_df = pd.read_csv(severity_file)\n"
   ]
  },
  {
   "cell_type": "code",
   "execution_count": 3,
   "id": "d3405d51-58af-4613-92e1-8f5b421fa269",
   "metadata": {},
   "outputs": [
    {
     "name": "stdout",
     "output_type": "stream",
     "text": [
      "            Disease   Symptom_1              Symptom_2              Symptom_3  \\\n",
      "0  Fungal infection     itching              skin_rash   nodal_skin_eruptions   \n",
      "1  Fungal infection   skin_rash   nodal_skin_eruptions    dischromic _patches   \n",
      "2  Fungal infection     itching   nodal_skin_eruptions    dischromic _patches   \n",
      "3  Fungal infection     itching              skin_rash    dischromic _patches   \n",
      "4  Fungal infection     itching              skin_rash   nodal_skin_eruptions   \n",
      "\n",
      "              Symptom_4 Symptom_5 Symptom_6 Symptom_7 Symptom_8 Symptom_9  \\\n",
      "0   dischromic _patches       NaN       NaN       NaN       NaN       NaN   \n",
      "1                   NaN       NaN       NaN       NaN       NaN       NaN   \n",
      "2                   NaN       NaN       NaN       NaN       NaN       NaN   \n",
      "3                   NaN       NaN       NaN       NaN       NaN       NaN   \n",
      "4                   NaN       NaN       NaN       NaN       NaN       NaN   \n",
      "\n",
      "  Symptom_10 Symptom_11 Symptom_12 Symptom_13 Symptom_14 Symptom_15  \\\n",
      "0        NaN        NaN        NaN        NaN        NaN        NaN   \n",
      "1        NaN        NaN        NaN        NaN        NaN        NaN   \n",
      "2        NaN        NaN        NaN        NaN        NaN        NaN   \n",
      "3        NaN        NaN        NaN        NaN        NaN        NaN   \n",
      "4        NaN        NaN        NaN        NaN        NaN        NaN   \n",
      "\n",
      "  Symptom_16 Symptom_17  \n",
      "0        NaN        NaN  \n",
      "1        NaN        NaN  \n",
      "2        NaN        NaN  \n",
      "3        NaN        NaN  \n",
      "4        NaN        NaN  \n",
      "                Symptom  weight\n",
      "0               itching       1\n",
      "1             skin_rash       3\n",
      "2  nodal_skin_eruptions       4\n",
      "3   continuous_sneezing       4\n",
      "4             shivering       5\n",
      "                 Disease  Symptom_1  Symptom_2 Symptom_3    Symptom_4  \\\n",
      "count               4920       4920       4920      4920         4572   \n",
      "unique                41         34         48        54           50   \n",
      "top     Fungal infection   vomiting   vomiting   fatigue   high_fever   \n",
      "freq                 120        822        870       726          378   \n",
      "\n",
      "        Symptom_5 Symptom_6        Symptom_7        Symptom_8  \\\n",
      "count        3714      2934             2268             1944   \n",
      "unique         38        32               26               21   \n",
      "top      headache    nausea   abdominal_pain   abdominal_pain   \n",
      "freq          348       390              264              276   \n",
      "\n",
      "                 Symptom_9          Symptom_10     Symptom_11 Symptom_12  \\\n",
      "count                 1692                1512           1194        744   \n",
      "unique                  22                  21             18         11   \n",
      "top      yellowing_of_eyes   yellowing_of_eyes   irritability    malaise   \n",
      "freq                   228                 198            120        126   \n",
      "\n",
      "          Symptom_13   Symptom_14   Symptom_15        Symptom_16    Symptom_17  \n",
      "count            504          306          240               192            72  \n",
      "unique             8            4            3                 3             1  \n",
      "top      muscle_pain   chest_pain   chest_pain   blood_in_sputum   muscle_pain  \n",
      "freq              72           96          144                72            72  \n"
     ]
    }
   ],
   "source": [
    "# Check the first few rows of the 'dataset.csv' DataFrame\n",
    "print(df.head())\n",
    "\n",
    "# Check the first few rows of the 'Symptom-severity.csv' DataFrame\n",
    "print(severity_df.head())\n",
    "\n",
    "# Get statistical summary of the 'dataset.csv' DataFrame\n",
    "print(df.describe())\n"
   ]
  },
  {
   "cell_type": "code",
   "execution_count": 4,
   "id": "b3f0769e-f0fc-4076-b189-54057391828a",
   "metadata": {},
   "outputs": [],
   "source": [
    "# Removing leading and trailing whitespace from all columns in the main dataset\n",
    "df = df.apply(lambda x: x.str.strip() if x.dtype == \"object\" else x)\n",
    "\n",
    "# Removing leading and trailing whitespace from symptom names in the symptom severity dataset\n",
    "severity_df['Symptom'] = severity_df['Symptom'].str.strip()"
   ]
  },
  {
   "cell_type": "code",
   "execution_count": 5,
   "id": "219d0e91-7c07-4fb0-ba63-763bc0cfd621",
   "metadata": {},
   "outputs": [],
   "source": [
    "# Drop symptom columns 4 to 17\n",
    "columns_to_drop = ['Symptom_4', 'Symptom_5', 'Symptom_6', 'Symptom_7', 'Symptom_8', 'Symptom_9',\n",
    "                   'Symptom_10', 'Symptom_11', 'Symptom_12', 'Symptom_13', 'Symptom_14', 'Symptom_15',\n",
    "                   'Symptom_16', 'Symptom_17']\n",
    "\n",
    "dropped_df = df.drop(columns=columns_to_drop)"
   ]
  },
  {
   "cell_type": "code",
   "execution_count": 6,
   "id": "532dab0e-5dab-42c0-a19f-66f836b9d462",
   "metadata": {},
   "outputs": [],
   "source": [
    "# Merge symptom severity information into the main dataset\n",
    "merged_df = dropped_df.merge(severity_df, how='left', left_on='Symptom_1', right_on='Symptom')"
   ]
  },
  {
   "cell_type": "code",
   "execution_count": 7,
   "id": "d07f4d6c-f992-4020-ba4c-228a75b99aaa",
   "metadata": {},
   "outputs": [],
   "source": [
    "# Perform one-hot encoding on symptom columns\n",
    "encoded_df = pd.get_dummies(merged_df, columns=['Symptom_1', 'Symptom_2', 'Symptom_3'])"
   ]
  },
  {
   "cell_type": "code",
   "execution_count": 16,
   "id": "7f640afe-6a61-41c4-988a-773601201fa6",
   "metadata": {},
   "outputs": [
    {
     "name": "stdout",
     "output_type": "stream",
     "text": [
      "Index(['Disease', 'Symptom', 'weight', 'Symptom_1_acidity',\n",
      "       'Symptom_1_back_pain', 'Symptom_1_bladder_discomfort',\n",
      "       'Symptom_1_breathlessness', 'Symptom_1_burning_micturition',\n",
      "       'Symptom_1_chest_pain', 'Symptom_1_chills',\n",
      "       ...\n",
      "       'Symptom_3_stomach_pain', 'Symptom_3_sweating',\n",
      "       'Symptom_3_swelling_joints', 'Symptom_3_swelling_of_stomach',\n",
      "       'Symptom_3_ulcers_on_tongue', 'Symptom_3_vomiting',\n",
      "       'Symptom_3_watering_from_eyes', 'Symptom_3_weakness_of_one_body_side',\n",
      "       'Symptom_3_weight_loss', 'Symptom_3_yellowish_skin'],\n",
      "      dtype='object', length=139)\n"
     ]
    }
   ],
   "source": [
    "print(encoded_df.columns)"
   ]
  },
  {
   "cell_type": "code",
   "execution_count": 28,
   "id": "264c25de-d1d3-4fea-aaf3-5cbf2db529fc",
   "metadata": {},
   "outputs": [
    {
     "name": "stdout",
     "output_type": "stream",
     "text": [
      "Random Forest Accuracy: 0.8851626016260162\n",
      "Classification Report:\n",
      "                                          precision    recall  f1-score   support\n",
      "\n",
      "                       Fungal infection       1.00      0.94      0.97        18\n",
      "                                Allergy       1.00      0.87      0.93        30\n",
      "                                   GERD       1.00      0.88      0.93        24\n",
      "                    Chronic cholestasis       0.80      0.96      0.87        25\n",
      "                          Drug Reaction       1.00      1.00      1.00        24\n",
      "                    Peptic ulcer diseae       0.91      0.91      0.91        23\n",
      "                                   AIDS       0.94      0.88      0.91        33\n",
      "                               Diabetes       1.00      1.00      1.00        23\n",
      "                        Gastroenteritis       1.00      1.00      1.00        21\n",
      "                       Bronchial Asthma       1.00      0.87      0.93        15\n",
      "                           Hypertension       1.00      0.96      0.98        23\n",
      "                               Migraine       1.00      1.00      1.00        26\n",
      "                   Cervical spondylosis       0.84      1.00      0.91        21\n",
      "           Paralysis (brain hemorrhage)       1.00      0.90      0.95        29\n",
      "                               Jaundice       1.00      0.96      0.98        24\n",
      "                                Malaria       1.00      0.84      0.91        19\n",
      "                            Chicken pox       1.00      1.00      1.00        28\n",
      "                                 Dengue       0.79      0.92      0.85        25\n",
      "                                Typhoid       0.92      1.00      0.96        23\n",
      "                            hepatitis A       1.00      0.96      0.98        27\n",
      "                            Hepatitis B       1.00      1.00      1.00        26\n",
      "                            Hepatitis C       0.00      0.00      0.00        23\n",
      "                            Hepatitis D       0.56      0.93      0.70        29\n",
      "                            Hepatitis E       0.42      1.00      0.59        25\n",
      "                    Alcoholic hepatitis       1.00      0.92      0.96        24\n",
      "                           Tuberculosis       1.00      0.88      0.94        26\n",
      "                            Common Cold       1.00      0.90      0.95        21\n",
      "                              Pneumonia       1.00      0.79      0.88        24\n",
      "           Dimorphic hemmorhoids(piles)       1.00      1.00      1.00        19\n",
      "                           Heart attack       0.79      1.00      0.88        22\n",
      "                         Varicose veins       1.00      0.96      0.98        25\n",
      "                         Hypothyroidism       1.00      0.95      0.98        22\n",
      "                        Hyperthyroidism       0.95      0.79      0.86        24\n",
      "                           Hypoglycemia       1.00      1.00      1.00        17\n",
      "                        Osteoarthristis       0.92      0.86      0.89        28\n",
      "                              Arthritis       0.77      0.91      0.83        22\n",
      "(vertigo) Paroymsal  Positional Vertigo       1.00      0.08      0.15        25\n",
      "                                   Acne       0.51      0.95      0.67        19\n",
      "                Urinary tract infection       1.00      0.81      0.89        26\n",
      "                              Psoriasis       1.00      0.91      0.95        22\n",
      "                               Impetigo       0.91      0.88      0.90        34\n",
      "\n",
      "                               accuracy                           0.89       984\n",
      "                              macro avg       0.90      0.89      0.88       984\n",
      "                           weighted avg       0.90      0.89      0.88       984\n",
      "\n",
      "Feature Importances:\n",
      " [4.91638338e-02 4.56547312e-02 2.46695534e-02 0.00000000e+00\n",
      " 0.00000000e+00 1.76880571e-02 0.00000000e+00 2.11032127e-02\n",
      " 4.24432085e-02 2.73693328e-02 0.00000000e+00 0.00000000e+00\n",
      " 2.13891284e-02 0.00000000e+00 0.00000000e+00 0.00000000e+00\n",
      " 3.12956263e-02 2.11837413e-02 0.00000000e+00 2.23743224e-02\n",
      " 2.13181421e-02 0.00000000e+00 0.00000000e+00 0.00000000e+00\n",
      " 0.00000000e+00 0.00000000e+00 2.05630227e-02 0.00000000e+00\n",
      " 2.75836197e-02 0.00000000e+00 1.77346687e-02 0.00000000e+00\n",
      " 0.00000000e+00 0.00000000e+00 0.00000000e+00 2.43740000e-04\n",
      " 9.90819022e-03 2.23072497e-04 0.00000000e+00 1.21745109e-02\n",
      " 0.00000000e+00 6.04927320e-03 0.00000000e+00 7.62349593e-03\n",
      " 3.41659871e-03 0.00000000e+00 2.78309030e-03 2.06254284e-02\n",
      " 0.00000000e+00 0.00000000e+00 7.73541713e-03 0.00000000e+00\n",
      " 9.77600125e-03 6.38398694e-03 2.67550683e-02 2.10729336e-02\n",
      " 1.23760082e-04 4.35012488e-04 1.27237741e-03 2.34011996e-02\n",
      " 3.35531866e-04 1.24056318e-02 8.59122380e-04 1.32270684e-02\n",
      " 0.00000000e+00 0.00000000e+00 2.08531473e-02 0.00000000e+00\n",
      " 4.36310373e-03 1.99873186e-04 2.19596387e-02 2.20271160e-02\n",
      " 9.68305978e-04 0.00000000e+00 0.00000000e+00 0.00000000e+00\n",
      " 1.02091788e-03 1.80256491e-02 1.07929825e-02 0.00000000e+00\n",
      " 2.81583278e-02 3.75869583e-03 1.14970013e-02 4.20779658e-03\n",
      " 4.57335145e-04 5.09962282e-03 7.79355901e-03 0.00000000e+00\n",
      " 0.00000000e+00 1.66955880e-04 3.30591291e-04 1.76362754e-02\n",
      " 1.02896399e-03 6.47413959e-04 3.65443835e-03 1.13194517e-02\n",
      " 0.00000000e+00 6.43767203e-03 0.00000000e+00 3.49214286e-03\n",
      " 0.00000000e+00 2.60327363e-03 2.56219027e-04 0.00000000e+00\n",
      " 3.86874248e-02 4.38563290e-03 1.47424105e-02 3.08381979e-03\n",
      " 3.01171414e-04 1.64923499e-02 4.41266102e-04 7.56468982e-03\n",
      " 3.26280741e-03 0.00000000e+00 2.21073045e-04 1.03530957e-06\n",
      " 1.71310180e-02 2.56148654e-03 1.15748078e-02 2.90774897e-04\n",
      " 0.00000000e+00 0.00000000e+00 0.00000000e+00 0.00000000e+00\n",
      " 1.31808150e-06 1.89612728e-02 2.07334470e-04 1.05526258e-02\n",
      " 2.37851493e-03 3.85695443e-03 1.09199240e-06 4.79387636e-03\n",
      " 2.73830841e-03 2.10902596e-03 1.37750286e-02 1.22796704e-03\n",
      " 1.15337296e-02]\n"
     ]
    },
    {
     "name": "stderr",
     "output_type": "stream",
     "text": [
      "C:\\Users\\Blake\\AppData\\Local\\Programs\\Python\\Python311\\Lib\\site-packages\\sklearn\\metrics\\_classification.py:1469: UndefinedMetricWarning: Precision and F-score are ill-defined and being set to 0.0 in labels with no predicted samples. Use `zero_division` parameter to control this behavior.\n",
      "  _warn_prf(average, modifier, msg_start, len(result))\n",
      "C:\\Users\\Blake\\AppData\\Local\\Programs\\Python\\Python311\\Lib\\site-packages\\sklearn\\metrics\\_classification.py:1469: UndefinedMetricWarning: Precision and F-score are ill-defined and being set to 0.0 in labels with no predicted samples. Use `zero_division` parameter to control this behavior.\n",
      "  _warn_prf(average, modifier, msg_start, len(result))\n",
      "C:\\Users\\Blake\\AppData\\Local\\Programs\\Python\\Python311\\Lib\\site-packages\\sklearn\\metrics\\_classification.py:1469: UndefinedMetricWarning: Precision and F-score are ill-defined and being set to 0.0 in labels with no predicted samples. Use `zero_division` parameter to control this behavior.\n",
      "  _warn_prf(average, modifier, msg_start, len(result))\n"
     ]
    }
   ],
   "source": [
    "from sklearn.model_selection import train_test_split\n",
    "from sklearn.ensemble import RandomForestClassifier\n",
    "from sklearn.metrics import accuracy_score\n",
    "from sklearn.metrics import classification_report\n",
    "\n",
    "# Splitting into features (X) and target (y)\n",
    "X = encoded_df.drop(['Disease', 'Symptom'], axis=1)\n",
    "y = encoded_df['Disease']\n",
    "\n",
    "# Splitting into training and testing sets\n",
    "X_train, X_test, y_train, y_test = train_test_split(X, y, test_size=0.2, random_state=42)\n",
    "\n",
    "# Experiment with different hyperparameters (test different values to see if training changes)\n",
    "n_estimators = 40  \n",
    "max_depth = 5  \n",
    "min_samples_split = 2  \n",
    "min_samples_leaf = 1  \n",
    "max_features = 'auto'  \n",
    "\n",
    "# Instantiate the Random Forest model\n",
    "rf_model = RandomForestClassifier(\n",
    "    n_estimators=n_estimators,\n",
    "    max_depth=max_depth,\n",
    "    min_samples_split=min_samples_split,\n",
    "    min_samples_leaf=min_samples_leaf,\n",
    "    max_features='sqrt',\n",
    "    random_state=20)\n",
    "\n",
    "# Train the model on the training data\n",
    "rf_model.fit(X_train, y_train)\n",
    "\n",
    "# Predict the disease labels on the testing data\n",
    "y_pred_rf = rf_model.predict(X_test)\n",
    "\n",
    "# Calculate the accuracy of the model\n",
    "accuracy_rf = accuracy_score(y_test, y_pred_rf)\n",
    "print(\"Random Forest Accuracy:\", accuracy_rf)\n",
    "\n",
    "# Calculate the classification report\n",
    "classification_rep = classification_report(y_test, y_pred_rf, target_names=y.unique())\n",
    "\n",
    "# Print the classification report\n",
    "print(\"Classification Report:\\n\", classification_rep)\n"
   ]
  },
  {
   "cell_type": "code",
   "execution_count": 29,
   "id": "c9da0554-c8c3-409f-8175-afa77dfde58f",
   "metadata": {},
   "outputs": [
    {
     "data": {
      "text/plain": [
       "['random_forest_model.pkl']"
      ]
     },
     "execution_count": 29,
     "metadata": {},
     "output_type": "execute_result"
    }
   ],
   "source": [
    "import joblib\n",
    "\n",
    "# Save the trained model to a file\n",
    "model_filename = 'random_forest_model.pkl'\n",
    "joblib.dump(rf_model, model_filename)\n"
   ]
  },
  {
   "cell_type": "code",
   "execution_count": null,
   "id": "eeab1fca-35fe-4683-9a5c-ccfcb1760232",
   "metadata": {},
   "outputs": [],
   "source": []
  }
 ],
 "metadata": {
  "kernelspec": {
   "display_name": "Python 3 (ipykernel)",
   "language": "python",
   "name": "python3"
  },
  "language_info": {
   "codemirror_mode": {
    "name": "ipython",
    "version": 3
   },
   "file_extension": ".py",
   "mimetype": "text/x-python",
   "name": "python",
   "nbconvert_exporter": "python",
   "pygments_lexer": "ipython3",
   "version": "3.11.4"
  }
 },
 "nbformat": 4,
 "nbformat_minor": 5
}
